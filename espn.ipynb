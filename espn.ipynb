{
 "cells": [
  {
   "cell_type": "markdown",
   "metadata": {},
   "source": [
    "#This Project is about to give a message of updating score of a cricket match with interval of 15 minutes from the starting of match till the end of the match"
   ]
  },
  {
   "cell_type": "code",
   "execution_count": 6,
   "metadata": {},
   "outputs": [],
   "source": [
    "import requests\n",
    "from lxml import html"
   ]
  },
  {
   "cell_type": "code",
   "execution_count": 7,
   "metadata": {},
   "outputs": [],
   "source": [
    "#enter the url of espncric info\n",
    "url='http://www.espncricinfo.com/series/18816/scorecard/1148654/jamaica-tallawahs-vs-st-kitts-and-nevis-patriots-8th-match-caribbean-premier-league-2018'"
   ]
  },
  {
   "cell_type": "code",
   "execution_count": 8,
   "metadata": {},
   "outputs": [],
   "source": [
    "#request to get the access of url\n",
    "request=requests.get(url)\n",
    "#check the status of link\n",
    "status=request.status_code"
   ]
  },
  {
   "cell_type": "code",
   "execution_count": 9,
   "metadata": {},
   "outputs": [],
   "source": [
    "import time\n",
    "from twilio.rest import Client\n",
    "from datetime import datetime  \n",
    "from datetime import timedelta"
   ]
  },
  {
   "cell_type": "code",
   "execution_count": null,
   "metadata": {},
   "outputs": [],
   "source": [
    "#present time in time1\n",
    "time1=datetime.now()\n",
    "#checking if status is good or not if status is good following program will run else it will give status error\n",
    "if (status==200):\n",
    "    a=int(input('enter the difference of time from now to end of match in minutes'))\n",
    "    b=int(input('enter the difference of time from now to start of match in minutes'))\n",
    "    present_time=datetime.now()\n",
    "    #print(present_time)\n",
    "    end_time=time1 + timedelta(minutes=a) #ending time of match\n",
    "    starting_time=present_time + timedelta(minutes=b) #starting time of match\n",
    "    #print(starting_time)\n",
    "    while(present_time<=end_time):\n",
    "        present_time=datetime.now()\n",
    "        if(present_time>=starting_time):\n",
    "            content1=request.content\n",
    "            content=html.fromstring(content1)\n",
    "            first_batting_team=content.xpath(\"//div[@class='cscore_truncate']/a/span[@class='cscore_name cscore_name--long']/text()\")[0]\n",
    "            first_batting_score=content.xpath(\"//div[@class='cscore_team icon-font-after']/div[@class='cscore_score ']/text()\")[0]\n",
    "            first_batting_overs=content.xpath(\"//div[@class='cscore_team icon-font-after']/div[@class='cscore_score ']/span/text()\")[0]\n",
    "            second_batting_team=content.xpath(\"//div[@class='cscore_truncate']/a/span[@class='cscore_name cscore_name--long']/text()\")[1]\n",
    "            second_batting_score=content.xpath(\"//div[@class='cscore_team icon-font-after']/div[@class='cscore_score ']/text()\")[1]\n",
    "            second_batting_overs=content.xpath(\"//div[@class='cscore_team icon-font-after']/div[@class='cscore_score ']/span/text()\")[1]\n",
    "            print(first_batting_team,first_batting_score,first_batting_overs)\n",
    "            print('\\n')\n",
    "            print(second_batting_team,second_batting_score,second_batting_overs)\n",
    "            account_sid = \"AC9190124d32a72d024405c5f9a8474cc1\"#twilio id\n",
    "            auth_token  = \"********************************\"#twilio authentication_token\n",
    "            client = Client(account_sid, auth_token)\n",
    "            message = client.messages.create(\n",
    "            to=\"+917003263252\", \n",
    "            from_=\"+16087361696\",\n",
    "            body=first_batting_team+first_batting_score+first_batting_overs+'\\n'+second_batting_team+second_batting_score+second_batting_overs)\n",
    "            print(message.sid)\n",
    "        else:\n",
    "            print('match will start at'+str(starting_time))\n",
    "        time.sleep(900)#to delay the program by 15 mins\n",
    "else:\n",
    "    print('check the server')"
   ]
  }
 ],
 "metadata": {
  "kernelspec": {
   "display_name": "Python 3",
   "language": "python",
   "name": "python3"
  },
  "language_info": {
   "codemirror_mode": {
    "name": "ipython",
    "version": 3
   },
   "file_extension": ".py",
   "mimetype": "text/x-python",
   "name": "python",
   "nbconvert_exporter": "python",
   "pygments_lexer": "ipython3",
   "version": "3.5.2"
  }
 },
 "nbformat": 4,
 "nbformat_minor": 2
}
